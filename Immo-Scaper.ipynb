{
 "cells": [
  {
   "cell_type": "code",
   "execution_count": 21,
   "metadata": {},
   "outputs": [],
   "source": [
    "import requests\n",
    "from bs4 import BeautifulSoup\n",
    "import re\n",
    "from datetime import datetime\n",
    "\n",
    "# Download the website's HTML code\n",
    "url = 'https://www.gewobag.de/fuer-mieter-und-mietinteressenten/mietangebote/'\\\n",
    "    '?bezirke_all=1&bezirke%5B%5D=charlottenburg-wilmersdorf&'\\\n",
    "    'bezirke%5B%5D=charlottenburg-wilmersdorf-charlottenburg&'\\\n",
    "    'bezirke%5B%5D=charlottenburg-wilmersdorf-grunewald&'\\\n",
    "    'bezirke%5B%5D=friedrichshain-kreuzberg&'\\\n",
    "    'bezirke%5B%5D=friedrichshain-kreuzberg-friedrichshain&'\\\n",
    "    'bezirke%5B%5D=friedrichshain-kreuzberg-kreuzberg&'\\\n",
    "    'bezirke%5B%5D=lichtenberg&'\\\n",
    "    'bezirke%5B%5D=lichtenberg-alt-hohenschoenhausen&'\\\n",
    "    'bezirke%5B%5D=lichtenberg-falkenberg&'\\\n",
    "    'bezirke%5B%5D=lichtenberg-fennpfuhl&'\\\n",
    "    'bezirke%5B%5D=lichtenberg-friedrichsfelde&'\\\n",
    "    'bezirke%5B%5D=marzahn-hellersdorf&'\\\n",
    "    'bezirke%5B%5D=marzahn-hellersdorf-marzahn&'\\\n",
    "    'bezirke%5B%5D=mitte&bezirke%5B%5D=mitte-gesundbrunnen&'\\\n",
    "    'bezirke%5B%5D=mitte-moabit&'\\\n",
    "    'bezirke%5B%5D=mitte-wedding&'\\\n",
    "    'bezirke%5B%5D=neukoelln&'\\\n",
    "    'bezirke%5B%5D=neukoelln-buckow&'\\\n",
    "    'bezirke%5B%5D=neukoelln-rudow&'\\\n",
    "    'bezirke%5B%5D=pankow&'\\\n",
    "    'bezirke%5B%5D=pankow-prenzlauer-berg&'\\\n",
    "    'bezirke%5B%5D=pankow-weissensee&'\\\n",
    "    'bezirke%5B%5D=reinickendorf&'\\\n",
    "    'bezirke%5B%5D=reinickendorf-hermsdorf&'\\\n",
    "    'bezirke%5B%5D=reinickendorf-tegel&'\\\n",
    "    'bezirke%5B%5D=reinickendorf-waidmannslust&'\\\n",
    "    'bezirke%5B%5D=spandau&'\\\n",
    "    'bezirke%5B%5D=spandau-falkenhagener-feld&'\\\n",
    "    'bezirke%5B%5D=spandau-hakenfelde&'\\\n",
    "    'bezirke%5B%5D=spandau-haselhorst&'\\\n",
    "    'bezirke%5B%5D=spandau-staaken&'\\\n",
    "    'bezirke%5B%5D=spandau-wilhelmstadt&'\\\n",
    "    'bezirke%5B%5D=steglitz-zehlendorf&'\\\n",
    "    'bezirke%5B%5D=steglitz-zehlendorf-lichterfelde&'\\\n",
    "    'bezirke%5B%5D=tempelhof-schoeneberg&'\\\n",
    "    'bezirke%5B%5D=tempelhof-schoeneberg-lichtenrade&'\\\n",
    "    'bezirke%5B%5D=tempelhof-schoeneberg-mariendorf&'\\\n",
    "    'bezirke%5B%5D=tempelhof-schoeneberg-marienfelde&'\\\n",
    "    'bezirke%5B%5D=tempelhof-schoeneberg-schoeneberg&'\\\n",
    "    'bezirke%5B%5D=treptow-koepenick&'\\\n",
    "    'bezirke%5B%5D=treptow-koepenick-alt-treptow&'\\\n",
    "    'bezirke%5B%5D=treptow-koepenick-niederschoeneweide&'\\\n",
    "    'bezirke%5B%5D=treptow-koepenick-oberschoeneweide&'\\\n",
    "    'nutzungsarten%5B%5D=wohnung&'\\\n",
    "    'gesamtmiete_von=&'\\\n",
    "    'gesamtmiete_bis=&'\\\n",
    "    'gesamtflaeche_von=&'\\\n",
    "    'gesamtflaeche_bis=&'\\\n",
    "    'zimmer_von=&'\\\n",
    "    'zimmer_bis=&'\\\n",
    "    'sort-by=recent'\n",
    "\n",
    "response = requests.get(url)\n",
    "html = response.content\n",
    "\n",
    "now = datetime.now()\n",
    "\n",
    "# Parse the HTML code with Beautiful Soup\n",
    "soup = BeautifulSoup(html, 'html.parser')\n",
    "\n",
    "# Find the specific HTML tag or attribute that corresponds to the change you are looking for\n",
    "empty = soup.find('div', {'class': 'empty-mietangebote'})\n",
    "\n",
    "# Check if the element has changed\n",
    "if empty is None:\n",
    "    results = soup.find(string=re.compile(\"Suchergebnisse\"))\n",
    "    \n",
    "    if results[0] == \"1\":\n",
    "        results = \"Es wurde 1 Suchergebnis gefunden \\nTimestamp: \" + now.strftime(\"%H:%M:%S\")\n",
    "    else: \n",
    "        results = \"Es wurden \" + results + \" gefunden \\nTimestamp: \" + now.strftime(\"%H:%M:%S\")\n",
    "    #print(results + \" gefunden!\")\n",
    "else:\n",
    "    print(\"Keine Wohnungen vorhanden\")"
   ]
  },
  {
   "cell_type": "code",
   "execution_count": 23,
   "metadata": {},
   "outputs": [],
   "source": [
    "import smtplib\n",
    "from email.message import EmailMessage\n",
    "\n",
    "def email_alert (subject, body, to):\n",
    "    msg = EmailMessage()\n",
    "    msg.set_content(body)\n",
    "    msg['subject'] = subject\n",
    "    msg['to'] = to\n",
    "\n",
    "    user = \"immo.scraper.alert@gmail.com\"\n",
    "\n",
    "    msg['from'] = user\n",
    "\n",
    "    password = \"bndeucipumleyiad\"\n",
    "    \n",
    "    server = smtplib.SMTP(\"smtp.gmail.com\", 587)\n",
    "    server.starttls()\n",
    "    server.login(user, password)\n",
    "    server.send_message(msg)\n",
    "    server.quit()\n",
    "\n",
    "now = datetime.now()\n",
    "email_alert(\"Wohnung Gefunden\", results, \"mail@olivervanvelzen.com\")"
   ]
  },
  {
   "cell_type": "code",
   "execution_count": 22,
   "metadata": {},
   "outputs": [
    {
     "data": {
      "text/plain": [
       "<http.client.HTTPResponse at 0x1077e3040>"
      ]
     },
     "execution_count": 22,
     "metadata": {},
     "output_type": "execute_result"
    }
   ],
   "source": [
    "import http.client, urllib\n",
    "\n",
    "now = datetime.now()\n",
    "conn = http.client.HTTPSConnection(\"api.pushover.net:443\")\n",
    "conn.request(\"POST\", \"/1/messages.json\",\n",
    "  urllib.parse.urlencode({\n",
    "    \"token\": \"ajbg2qtadunfbq8o6nqhu7tm5apvey\",\n",
    "    \"user\": \"uoy8sg13a5hm6o5s87584ppcgtt6a9\",\n",
    "    \"message\": results,\n",
    "  }), { \"Content-type\": \"application/x-www-form-urlencoded\" })\n",
    "conn.getresponse()"
   ]
  }
 ],
 "metadata": {
  "kernelspec": {
   "display_name": "Python 3",
   "language": "python",
   "name": "python3"
  },
  "language_info": {
   "codemirror_mode": {
    "name": "ipython",
    "version": 3
   },
   "file_extension": ".py",
   "mimetype": "text/x-python",
   "name": "python",
   "nbconvert_exporter": "python",
   "pygments_lexer": "ipython3",
   "version": "3.9.6"
  },
  "orig_nbformat": 4,
  "vscode": {
   "interpreter": {
    "hash": "31f2aee4e71d21fbe5cf8b01ff0e069b9275f58929596ceb00d14d90e3e16cd6"
   }
  }
 },
 "nbformat": 4,
 "nbformat_minor": 2
}
